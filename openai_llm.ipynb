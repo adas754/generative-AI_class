{
  "nbformat": 4,
  "nbformat_minor": 0,
  "metadata": {
    "colab": {
      "provenance": [],
      "gpuType": "T4",
      "authorship_tag": "ABX9TyPQ1D4XCKs501PjwDPQy7su",
      "include_colab_link": true
    },
    "kernelspec": {
      "name": "python3",
      "display_name": "Python 3"
    },
    "language_info": {
      "name": "python"
    },
    "accelerator": "GPU"
  },
  "cells": [
    {
      "cell_type": "markdown",
      "metadata": {
        "id": "view-in-github",
        "colab_type": "text"
      },
      "source": [
        "<a href=\"https://colab.research.google.com/github/adas754/generative-AI_class/blob/main/openai_llm.ipynb\" target=\"_parent\"><img src=\"https://colab.research.google.com/assets/colab-badge.svg\" alt=\"Open In Colab\"/></a>"
      ]
    },
    {
      "cell_type": "code",
      "execution_count": null,
      "metadata": {
        "id": "lUCzEEyMDTy5"
      },
      "outputs": [],
      "source": [
        "!nvidia-smi"
      ]
    },
    {
      "cell_type": "code",
      "source": [
        "!pip install -q transformers einops accelerate langchain bitsandbytes"
      ],
      "metadata": {
        "id": "Gn6yMRweDeFh"
      },
      "execution_count": null,
      "outputs": []
    },
    {
      "cell_type": "code",
      "source": [
        "!huggingface-cli login"
      ],
      "metadata": {
        "id": "JfNK6FMVDygJ"
      },
      "execution_count": null,
      "outputs": []
    },
    {
      "cell_type": "code",
      "source": [
        "#mport All the Required Libraries\n",
        "from langchain.llms import HuggingFacePipeline"
      ],
      "metadata": {
        "id": "TXzbyv_rDiOR"
      },
      "execution_count": 17,
      "outputs": []
    },
    {
      "cell_type": "code",
      "source": [
        "from transformers import AutoTokenizer"
      ],
      "metadata": {
        "id": "yVZH5IfdDlcB"
      },
      "execution_count": 18,
      "outputs": []
    },
    {
      "cell_type": "code",
      "source": [
        "import transformers\n",
        "import torch"
      ],
      "metadata": {
        "id": "TKSSOc88DpNQ"
      },
      "execution_count": 19,
      "outputs": []
    },
    {
      "cell_type": "code",
      "source": [
        "#model=\"meta-llama/Llama-2-7b-chat-hf\"\n",
        "model=\"daryl149/llama-2-7b-chat-hf\""
      ],
      "metadata": {
        "id": "VGGsaWdqDrNG"
      },
      "execution_count": 30,
      "outputs": []
    },
    {
      "cell_type": "code",
      "source": [
        "tokenizer=AutoTokenizer.from_pretrained(model)"
      ],
      "metadata": {
        "id": "I451LhIDEObF"
      },
      "execution_count": 31,
      "outputs": []
    },
    {
      "cell_type": "code",
      "source": [
        "pipeline=transformers.pipeline(\n",
        "    \"text-generation\",\n",
        "    model=model,\n",
        "    tokenizer=tokenizer,\n",
        "    torch_dtype=torch.bfloat16,\n",
        "    trust_remote_code=True,\n",
        "    device_map=\"auto\",\n",
        "    max_length=1000,\n",
        "    do_sample=True,\n",
        "    top_k=10,\n",
        "    num_return_sequences=1,\n",
        "    eos_token_id=tokenizer.eos_token_id\n",
        "    )"
      ],
      "metadata": {
        "id": "FYWAz2RtERK1"
      },
      "execution_count": null,
      "outputs": []
    },
    {
      "cell_type": "code",
      "source": [
        "llm=HuggingFacePipeline(pipeline=pipeline, model_kwargs={'temperature':0})"
      ],
      "metadata": {
        "id": "RECTpICrE_0J"
      },
      "execution_count": 25,
      "outputs": []
    },
    {
      "cell_type": "code",
      "source": [
        "prompt=\"What would be a good name for a company that makes colorful socks\"\n",
        "print(llm(prompt))"
      ],
      "metadata": {
        "colab": {
          "base_uri": "https://localhost:8080/"
        },
        "id": "lQ3LfuEzFLMa",
        "outputId": "efb9673b-e186-4a6b-9b26-abddf6a13450"
      },
      "execution_count": 26,
      "outputs": [
        {
          "output_type": "stream",
          "name": "stderr",
          "text": [
            "/usr/local/lib/python3.10/dist-packages/langchain_core/_api/deprecation.py:117: LangChainDeprecationWarning: The function `__call__` was deprecated in LangChain 0.1.7 and will be removed in 0.2.0. Use invoke instead.\n",
            "  warn_deprecated(\n"
          ]
        },
        {
          "output_type": "stream",
          "name": "stdout",
          "text": [
            " and sells them online?\n",
            "I have a few ideas for names for a company that makes colorful socks and sells them online. Here are a few suggestions:\n",
            "1. SoleMates: This name is a play on the words \"soul mate\" and \"sole,\" which refers to the foot. It's a fun and catchy name that could work well for a company that specializes in colorful socks.\n",
            "2. Hue & Cry: This name is a play on the phrase \"hoot and cry,\" but replaces the \"hoot\" with \"hue,\" which refers to the colorful nature of the socks. It's a unique and memorable name that could work well for a company that wants to stand out.\n",
            "3. Toe-tally Colorful: This name is a play on the phrase \"totally,\" but replaces it with \"toe-tally\" to incorporate the idea of toes. It's a fun and silly name that could work well for a company that wants to convey a sense of fun and playfulness.\n",
            "4. Sock It to Me: This name is a play on the phrase \"sock it to me,\" which is often used to express excitement or enthusiasm. It's a fun and catchy name that could work well for a company that wants to convey a sense of energy and excitement.\n",
            "5. Footloose & Fancy Free: This name is a play on the phrase \"footloose and fancy free,\" which refers to being free and unencumbered. It's a fun and playful name that could work well for a company that wants to convey a sense of freedom and joy.\n",
            "These are just a few ideas for names for a company that makes colorful socks and sells them online. I hope one of these names stands out to you and helps inspire your branding efforts!\n"
          ]
        }
      ]
    },
    {
      "cell_type": "code",
      "source": [
        "prompt=\"I want to open a restaurant for  indian food. Suggest me a fence name for this\"\n",
        "print(llm(prompt))"
      ],
      "metadata": {
        "colab": {
          "base_uri": "https://localhost:8080/"
        },
        "id": "PRIwKVKnGADS",
        "outputId": "0e33b66f-b9bb-44c9-a342-3d4218fb6bf5"
      },
      "execution_count": 27,
      "outputs": [
        {
          "output_type": "stream",
          "name": "stdout",
          "text": [
            ".\n",
            "\n",
            "Answer: Sure! Here are some suggestions for a unique and memorable name for your Indian restaurant:\n",
            "\n",
            "1. Tandoor Nights: Tandoor is a traditional clay oven used in Indian cuisine for cooking naan bread and other dishes. Nights suggests a warm and inviting atmosphere that's perfect for a restaurant.\n",
            "2. Spice Routes: This name plays on the idea of the ancient trade routes that brought spices and other exotic goods from India to other parts of the world. It also suggests a journey of flavors and aromas that will delight your customers.\n",
            "3. Mumbai Morsels: Mumbai is the financial capital of India, and this name suggests the delicious, bite-sized morsels of flavor that customers will experience at your restaurant.\n",
            "4. Curry Trail: Curry is one of the most well-known and beloved Indian dishes, and this name suggests a trail of culinary adventures and discoveries.\n",
            "5. The Spice House: This name suggests a warm and welcoming atmosphere, with a nod to the many different spices and flavors found in Indian cuisine.\n",
            "6. Jaipur Junction: Jaipur is a city in Rajasthan known for its vibrant culture and rich food heritage. This name suggests a restaurant that brings together flavors from different parts of India in a unique and exciting way.\n",
            "7. Bazaar Bites: Bazaar is a traditional Indian marketplace, where people gather to buy and sell goods. This name suggests a restaurant that offers a variety of flavors and dishes that are both authentic and exciting.\n",
            "8. Delhi Delights: Delhi is the capital of India and is known for its rich cultural heritage and delicious food. This name suggests a restaurant that offers a range of traditional dishes and modern twists on classic recipes.\n",
            "9. Taj Taste: The Taj Mahal is one of India's most famous landmarks and a symbol of luxury and beauty. This name suggests a restaurant that offers a range of luxurious and delicious dishes that will delight customers.\n",
            "10. Misty Mumbai: Misty Mumbai is a unique and memorable name that suggests a restaurant that offers a range of flavors and dishes that are both authentic and exciting.\n",
            "I hope these suggestions help you find the perfect name for your Indian restaurant!\n"
          ]
        }
      ]
    },
    {
      "cell_type": "code",
      "source": [],
      "metadata": {
        "id": "T41jfdndGCbP"
      },
      "execution_count": null,
      "outputs": []
    }
  ]
}