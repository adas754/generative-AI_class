{
  "nbformat": 4,
  "nbformat_minor": 0,
  "metadata": {
    "colab": {
      "provenance": [],
      "include_colab_link": true
    },
    "kernelspec": {
      "name": "python3",
      "display_name": "Python 3"
    },
    "language_info": {
      "name": "python"
    }
  },
  "cells": [
    {
      "cell_type": "markdown",
      "metadata": {
        "id": "view-in-github",
        "colab_type": "text"
      },
      "source": [
        "<a href=\"https://colab.research.google.com/github/adas754/generative-AI_class/blob/main/Pinecone_Demo.ipynb\" target=\"_parent\"><img src=\"https://colab.research.google.com/assets/colab-badge.svg\" alt=\"Open In Colab\"/></a>"
      ]
    },
    {
      "cell_type": "markdown",
      "source": [
        "Pinecone: https://www.pinecone.io/"
      ],
      "metadata": {
        "id": "fZ4b4j8LKS_Q"
      }
    },
    {
      "cell_type": "code",
      "execution_count": 137,
      "metadata": {
        "colab": {
          "base_uri": "https://localhost:8080/"
        },
        "id": "If7W46lCJ6h6",
        "outputId": "e7832d2f-36dd-4917-e899-240b2146eae4"
      },
      "outputs": [
        {
          "output_type": "stream",
          "name": "stdout",
          "text": [
            "Requirement already satisfied: langchain in /usr/local/lib/python3.10/dist-packages (0.1.11)\n",
            "Requirement already satisfied: PyYAML>=5.3 in /usr/local/lib/python3.10/dist-packages (from langchain) (6.0.1)\n",
            "Requirement already satisfied: SQLAlchemy<3,>=1.4 in /usr/local/lib/python3.10/dist-packages (from langchain) (2.0.28)\n",
            "Requirement already satisfied: aiohttp<4.0.0,>=3.8.3 in /usr/local/lib/python3.10/dist-packages (from langchain) (3.9.3)\n",
            "Requirement already satisfied: async-timeout<5.0.0,>=4.0.0 in /usr/local/lib/python3.10/dist-packages (from langchain) (4.0.3)\n",
            "Requirement already satisfied: dataclasses-json<0.7,>=0.5.7 in /usr/local/lib/python3.10/dist-packages (from langchain) (0.6.4)\n",
            "Requirement already satisfied: jsonpatch<2.0,>=1.33 in /usr/local/lib/python3.10/dist-packages (from langchain) (1.33)\n",
            "Requirement already satisfied: langchain-community<0.1,>=0.0.25 in /usr/local/lib/python3.10/dist-packages (from langchain) (0.0.27)\n",
            "Requirement already satisfied: langchain-core<0.2,>=0.1.29 in /usr/local/lib/python3.10/dist-packages (from langchain) (0.1.30)\n",
            "Requirement already satisfied: langchain-text-splitters<0.1,>=0.0.1 in /usr/local/lib/python3.10/dist-packages (from langchain) (0.0.1)\n",
            "Requirement already satisfied: langsmith<0.2.0,>=0.1.17 in /usr/local/lib/python3.10/dist-packages (from langchain) (0.1.23)\n",
            "Requirement already satisfied: numpy<2,>=1 in /usr/local/lib/python3.10/dist-packages (from langchain) (1.25.2)\n",
            "Requirement already satisfied: pydantic<3,>=1 in /usr/local/lib/python3.10/dist-packages (from langchain) (2.6.3)\n",
            "Requirement already satisfied: requests<3,>=2 in /usr/local/lib/python3.10/dist-packages (from langchain) (2.31.0)\n",
            "Requirement already satisfied: tenacity<9.0.0,>=8.1.0 in /usr/local/lib/python3.10/dist-packages (from langchain) (8.2.3)\n",
            "Requirement already satisfied: aiosignal>=1.1.2 in /usr/local/lib/python3.10/dist-packages (from aiohttp<4.0.0,>=3.8.3->langchain) (1.3.1)\n",
            "Requirement already satisfied: attrs>=17.3.0 in /usr/local/lib/python3.10/dist-packages (from aiohttp<4.0.0,>=3.8.3->langchain) (23.2.0)\n",
            "Requirement already satisfied: frozenlist>=1.1.1 in /usr/local/lib/python3.10/dist-packages (from aiohttp<4.0.0,>=3.8.3->langchain) (1.4.1)\n",
            "Requirement already satisfied: multidict<7.0,>=4.5 in /usr/local/lib/python3.10/dist-packages (from aiohttp<4.0.0,>=3.8.3->langchain) (6.0.5)\n",
            "Requirement already satisfied: yarl<2.0,>=1.0 in /usr/local/lib/python3.10/dist-packages (from aiohttp<4.0.0,>=3.8.3->langchain) (1.9.4)\n",
            "Requirement already satisfied: marshmallow<4.0.0,>=3.18.0 in /usr/local/lib/python3.10/dist-packages (from dataclasses-json<0.7,>=0.5.7->langchain) (3.21.1)\n",
            "Requirement already satisfied: typing-inspect<1,>=0.4.0 in /usr/local/lib/python3.10/dist-packages (from dataclasses-json<0.7,>=0.5.7->langchain) (0.9.0)\n",
            "Requirement already satisfied: jsonpointer>=1.9 in /usr/local/lib/python3.10/dist-packages (from jsonpatch<2.0,>=1.33->langchain) (2.4)\n",
            "Requirement already satisfied: anyio<5,>=3 in /usr/local/lib/python3.10/dist-packages (from langchain-core<0.2,>=0.1.29->langchain) (3.7.1)\n",
            "Requirement already satisfied: packaging<24.0,>=23.2 in /usr/local/lib/python3.10/dist-packages (from langchain-core<0.2,>=0.1.29->langchain) (23.2)\n",
            "Requirement already satisfied: orjson<4.0.0,>=3.9.14 in /usr/local/lib/python3.10/dist-packages (from langsmith<0.2.0,>=0.1.17->langchain) (3.9.15)\n",
            "Requirement already satisfied: annotated-types>=0.4.0 in /usr/local/lib/python3.10/dist-packages (from pydantic<3,>=1->langchain) (0.6.0)\n",
            "Requirement already satisfied: pydantic-core==2.16.3 in /usr/local/lib/python3.10/dist-packages (from pydantic<3,>=1->langchain) (2.16.3)\n",
            "Requirement already satisfied: typing-extensions>=4.6.1 in /usr/local/lib/python3.10/dist-packages (from pydantic<3,>=1->langchain) (4.10.0)\n",
            "Requirement already satisfied: charset-normalizer<4,>=2 in /usr/local/lib/python3.10/dist-packages (from requests<3,>=2->langchain) (3.3.2)\n",
            "Requirement already satisfied: idna<4,>=2.5 in /usr/local/lib/python3.10/dist-packages (from requests<3,>=2->langchain) (3.6)\n",
            "Requirement already satisfied: urllib3<3,>=1.21.1 in /usr/local/lib/python3.10/dist-packages (from requests<3,>=2->langchain) (2.0.7)\n",
            "Requirement already satisfied: certifi>=2017.4.17 in /usr/local/lib/python3.10/dist-packages (from requests<3,>=2->langchain) (2024.2.2)\n",
            "Requirement already satisfied: greenlet!=0.4.17 in /usr/local/lib/python3.10/dist-packages (from SQLAlchemy<3,>=1.4->langchain) (3.0.3)\n",
            "Requirement already satisfied: sniffio>=1.1 in /usr/local/lib/python3.10/dist-packages (from anyio<5,>=3->langchain-core<0.2,>=0.1.29->langchain) (1.3.1)\n",
            "Requirement already satisfied: exceptiongroup in /usr/local/lib/python3.10/dist-packages (from anyio<5,>=3->langchain-core<0.2,>=0.1.29->langchain) (1.2.0)\n",
            "Requirement already satisfied: mypy-extensions>=0.3.0 in /usr/local/lib/python3.10/dist-packages (from typing-inspect<1,>=0.4.0->dataclasses-json<0.7,>=0.5.7->langchain) (1.0.0)\n",
            "Requirement already satisfied: pinecone-client==2.2.4 in /usr/local/lib/python3.10/dist-packages (2.2.4)\n",
            "Requirement already satisfied: requests>=2.19.0 in /usr/local/lib/python3.10/dist-packages (from pinecone-client==2.2.4) (2.31.0)\n",
            "Requirement already satisfied: pyyaml>=5.4 in /usr/local/lib/python3.10/dist-packages (from pinecone-client==2.2.4) (6.0.1)\n",
            "Requirement already satisfied: loguru>=0.5.0 in /usr/local/lib/python3.10/dist-packages (from pinecone-client==2.2.4) (0.7.2)\n",
            "Requirement already satisfied: typing-extensions>=3.7.4 in /usr/local/lib/python3.10/dist-packages (from pinecone-client==2.2.4) (4.10.0)\n",
            "Requirement already satisfied: dnspython>=2.0.0 in /usr/local/lib/python3.10/dist-packages (from pinecone-client==2.2.4) (2.6.1)\n",
            "Requirement already satisfied: python-dateutil>=2.5.3 in /usr/local/lib/python3.10/dist-packages (from pinecone-client==2.2.4) (2.8.2)\n",
            "Requirement already satisfied: urllib3>=1.21.1 in /usr/local/lib/python3.10/dist-packages (from pinecone-client==2.2.4) (2.0.7)\n",
            "Requirement already satisfied: tqdm>=4.64.1 in /usr/local/lib/python3.10/dist-packages (from pinecone-client==2.2.4) (4.66.2)\n",
            "Requirement already satisfied: numpy>=1.22.0 in /usr/local/lib/python3.10/dist-packages (from pinecone-client==2.2.4) (1.25.2)\n",
            "Requirement already satisfied: six>=1.5 in /usr/local/lib/python3.10/dist-packages (from python-dateutil>=2.5.3->pinecone-client==2.2.4) (1.16.0)\n",
            "Requirement already satisfied: charset-normalizer<4,>=2 in /usr/local/lib/python3.10/dist-packages (from requests>=2.19.0->pinecone-client==2.2.4) (3.3.2)\n",
            "Requirement already satisfied: idna<4,>=2.5 in /usr/local/lib/python3.10/dist-packages (from requests>=2.19.0->pinecone-client==2.2.4) (3.6)\n",
            "Requirement already satisfied: certifi>=2017.4.17 in /usr/local/lib/python3.10/dist-packages (from requests>=2.19.0->pinecone-client==2.2.4) (2024.2.2)\n",
            "Requirement already satisfied: pypdf in /usr/local/lib/python3.10/dist-packages (4.1.0)\n"
          ]
        }
      ],
      "source": [
        "!pip install langchain\n",
        "!pip install pinecone-client==2.2.4\n",
        "!pip install pypdf"
      ]
    },
    {
      "cell_type": "code",
      "source": [
        "!pip install sentence-transformers==2.2.2"
      ],
      "metadata": {
        "colab": {
          "base_uri": "https://localhost:8080/"
        },
        "id": "L2UqWdrIL98m",
        "outputId": "89d143b4-9030-47de-fb41-2db6cee7654a"
      },
      "execution_count": 138,
      "outputs": [
        {
          "output_type": "stream",
          "name": "stdout",
          "text": [
            "Requirement already satisfied: sentence-transformers==2.2.2 in /usr/local/lib/python3.10/dist-packages (2.2.2)\n",
            "Requirement already satisfied: transformers<5.0.0,>=4.6.0 in /usr/local/lib/python3.10/dist-packages (from sentence-transformers==2.2.2) (4.38.2)\n",
            "Requirement already satisfied: tqdm in /usr/local/lib/python3.10/dist-packages (from sentence-transformers==2.2.2) (4.66.2)\n",
            "Requirement already satisfied: torch>=1.6.0 in /usr/local/lib/python3.10/dist-packages (from sentence-transformers==2.2.2) (2.1.0+cu121)\n",
            "Requirement already satisfied: torchvision in /usr/local/lib/python3.10/dist-packages (from sentence-transformers==2.2.2) (0.16.0+cu121)\n",
            "Requirement already satisfied: numpy in /usr/local/lib/python3.10/dist-packages (from sentence-transformers==2.2.2) (1.25.2)\n",
            "Requirement already satisfied: scikit-learn in /usr/local/lib/python3.10/dist-packages (from sentence-transformers==2.2.2) (1.2.2)\n",
            "Requirement already satisfied: scipy in /usr/local/lib/python3.10/dist-packages (from sentence-transformers==2.2.2) (1.11.4)\n",
            "Requirement already satisfied: nltk in /usr/local/lib/python3.10/dist-packages (from sentence-transformers==2.2.2) (3.8.1)\n",
            "Requirement already satisfied: sentencepiece in /usr/local/lib/python3.10/dist-packages (from sentence-transformers==2.2.2) (0.1.99)\n",
            "Requirement already satisfied: huggingface-hub>=0.4.0 in /usr/local/lib/python3.10/dist-packages (from sentence-transformers==2.2.2) (0.20.3)\n",
            "Requirement already satisfied: filelock in /usr/local/lib/python3.10/dist-packages (from huggingface-hub>=0.4.0->sentence-transformers==2.2.2) (3.13.1)\n",
            "Requirement already satisfied: fsspec>=2023.5.0 in /usr/local/lib/python3.10/dist-packages (from huggingface-hub>=0.4.0->sentence-transformers==2.2.2) (2023.6.0)\n",
            "Requirement already satisfied: requests in /usr/local/lib/python3.10/dist-packages (from huggingface-hub>=0.4.0->sentence-transformers==2.2.2) (2.31.0)\n",
            "Requirement already satisfied: pyyaml>=5.1 in /usr/local/lib/python3.10/dist-packages (from huggingface-hub>=0.4.0->sentence-transformers==2.2.2) (6.0.1)\n",
            "Requirement already satisfied: typing-extensions>=3.7.4.3 in /usr/local/lib/python3.10/dist-packages (from huggingface-hub>=0.4.0->sentence-transformers==2.2.2) (4.10.0)\n",
            "Requirement already satisfied: packaging>=20.9 in /usr/local/lib/python3.10/dist-packages (from huggingface-hub>=0.4.0->sentence-transformers==2.2.2) (23.2)\n",
            "Requirement already satisfied: sympy in /usr/local/lib/python3.10/dist-packages (from torch>=1.6.0->sentence-transformers==2.2.2) (1.12)\n",
            "Requirement already satisfied: networkx in /usr/local/lib/python3.10/dist-packages (from torch>=1.6.0->sentence-transformers==2.2.2) (3.2.1)\n",
            "Requirement already satisfied: jinja2 in /usr/local/lib/python3.10/dist-packages (from torch>=1.6.0->sentence-transformers==2.2.2) (3.1.3)\n",
            "Requirement already satisfied: triton==2.1.0 in /usr/local/lib/python3.10/dist-packages (from torch>=1.6.0->sentence-transformers==2.2.2) (2.1.0)\n",
            "Requirement already satisfied: regex!=2019.12.17 in /usr/local/lib/python3.10/dist-packages (from transformers<5.0.0,>=4.6.0->sentence-transformers==2.2.2) (2023.12.25)\n",
            "Requirement already satisfied: tokenizers<0.19,>=0.14 in /usr/local/lib/python3.10/dist-packages (from transformers<5.0.0,>=4.6.0->sentence-transformers==2.2.2) (0.15.2)\n",
            "Requirement already satisfied: safetensors>=0.4.1 in /usr/local/lib/python3.10/dist-packages (from transformers<5.0.0,>=4.6.0->sentence-transformers==2.2.2) (0.4.2)\n",
            "Requirement already satisfied: click in /usr/local/lib/python3.10/dist-packages (from nltk->sentence-transformers==2.2.2) (8.1.7)\n",
            "Requirement already satisfied: joblib in /usr/local/lib/python3.10/dist-packages (from nltk->sentence-transformers==2.2.2) (1.3.2)\n",
            "Requirement already satisfied: threadpoolctl>=2.0.0 in /usr/local/lib/python3.10/dist-packages (from scikit-learn->sentence-transformers==2.2.2) (3.3.0)\n",
            "Requirement already satisfied: pillow!=8.3.*,>=5.3.0 in /usr/local/lib/python3.10/dist-packages (from torchvision->sentence-transformers==2.2.2) (9.4.0)\n",
            "Requirement already satisfied: MarkupSafe>=2.0 in /usr/local/lib/python3.10/dist-packages (from jinja2->torch>=1.6.0->sentence-transformers==2.2.2) (2.1.5)\n",
            "Requirement already satisfied: charset-normalizer<4,>=2 in /usr/local/lib/python3.10/dist-packages (from requests->huggingface-hub>=0.4.0->sentence-transformers==2.2.2) (3.3.2)\n",
            "Requirement already satisfied: idna<4,>=2.5 in /usr/local/lib/python3.10/dist-packages (from requests->huggingface-hub>=0.4.0->sentence-transformers==2.2.2) (3.6)\n",
            "Requirement already satisfied: urllib3<3,>=1.21.1 in /usr/local/lib/python3.10/dist-packages (from requests->huggingface-hub>=0.4.0->sentence-transformers==2.2.2) (2.0.7)\n",
            "Requirement already satisfied: certifi>=2017.4.17 in /usr/local/lib/python3.10/dist-packages (from requests->huggingface-hub>=0.4.0->sentence-transformers==2.2.2) (2024.2.2)\n",
            "Requirement already satisfied: mpmath>=0.19 in /usr/local/lib/python3.10/dist-packages (from sympy->torch>=1.6.0->sentence-transformers==2.2.2) (1.3.0)\n"
          ]
        }
      ]
    },
    {
      "cell_type": "code",
      "source": [
        "!mkdir pdfs"
      ],
      "metadata": {
        "id": "mdOSMa98MNGs",
        "outputId": "72505f32-4c16-496f-93dc-82b265b813f0",
        "colab": {
          "base_uri": "https://localhost:8080/"
        }
      },
      "execution_count": 139,
      "outputs": [
        {
          "output_type": "stream",
          "name": "stdout",
          "text": [
            "mkdir: cannot create directory ‘pdfs’: File exists\n"
          ]
        }
      ]
    },
    {
      "cell_type": "markdown",
      "source": [
        "## Extract the Text from the PDF's"
      ],
      "metadata": {
        "id": "8PlnBWxDNN7l"
      }
    },
    {
      "cell_type": "code",
      "source": [
        "from langchain.document_loaders import PyPDFDirectoryLoader"
      ],
      "metadata": {
        "id": "KKF5G9mLNSe4"
      },
      "execution_count": 140,
      "outputs": []
    },
    {
      "cell_type": "code",
      "source": [
        "loader = PyPDFDirectoryLoader(\"pdfs\")\n",
        "data = loader.load()"
      ],
      "metadata": {
        "id": "wptoFDrKMcD8"
      },
      "execution_count": 141,
      "outputs": []
    },
    {
      "cell_type": "code",
      "source": [
        "data"
      ],
      "metadata": {
        "colab": {
          "base_uri": "https://localhost:8080/"
        },
        "id": "ysXxXBW6NTy0",
        "outputId": "4a7fc78d-52f3-44aa-cede-984f58bdc1c5"
      },
      "execution_count": 142,
      "outputs": [
        {
          "output_type": "execute_result",
          "data": {
            "text/plain": [
              "[Document(page_content='See discussions, st ats, and author pr ofiles f or this public ation at : https://www .researchgate.ne t/public ation/351411017\\nReal-T ime Object Detection Using YOLO: A Review\\nPreprint  · May 2021\\nDOI: 10.13140/RG.2.2.24367.66723\\nCITATIONS\\n17READS\\n16,315\\n2 author s:\\nUpulie Handalag e\\nUniv ersität des Saarlandes\\n5 PUBLICA TIONS \\xa0\\xa0\\xa020 CITATIONS \\xa0\\xa0\\xa0\\nSEE PROFILE\\nLakshini K uganandamurthy\\nSri Lank a Instit ute of Inf ormation T echnolog y\\n3 PUBLICA TIONS \\xa0\\xa0\\xa016 CITATIONS \\xa0\\xa0\\xa0\\nSEE PROFILE\\nAll c ontent f ollo wing this p age was uplo aded b y Upulie Handalag e on 08 May 2021.\\nThe user has r equest ed enhanc ement of the do wnlo aded file.', metadata={'source': 'pdfs/Real-TimeObjectDetectionusingYOLOAreview.pdf', 'page': 0}),\n",
              " Document(page_content=\"Real-Time Object Detection using YOLO: A review  \\nUpulie H.D.I  \\nIT18107074  \\nSri Lanka Institute of Information Technology  \\nMalabe, Sri Lanka  \\nireshaupulie@gmail.com   \\nLakshini Kuganandamurthy  \\nIT17073592   \\nSri Lanka Institute of Information Technology  \\nMalabe, Sri Lanka  \\nlakkuga@gmail.com  \\n \\nAbstract—With the availability of eno rmous amounts of data \\nand the need to computerize visual -based systems, research on \\nobject detection has been the focus for the past decade. This need \\nhas been accelerated with the increasing computational power \\nand Convolutional Neural Network (CNN) advan cements since \\n2012. With various CNN network architectures available, the \\nYou Only Look Once (YOLO) network is popular due to its \\nmany reasons, mainly its speed of identification applicable in \\nreal-time object identification. Followed by a general \\nintroduc tion of the background and CNN, this paper wishes to \\nreview the innovative, yet comparatively simple approach \\nYOLO takes at object detection.  \\nKeywords —YOLO, CNN, object detection, image classification  \\n \\nI. INTRODUCTION  \\nAlthough the human eye is capable of instantly and \\nprecisely identifying a given visual, including its content, \\nlocation, and visuals close by interacting with it, the human \\nmade, computer vision -enabled systems are relatively low in \\naccuracy and speed. Any advancements leading to \\nimprovement s in efficiency and performance in this field \\ncould pave paths to creating more intelligent systems, much \\nlike humans. These advancements, in turn, would ease human \\nlife through systems such as assistive technologies that allow \\nhumans to complete tasks wit h little to no conscious thought. \\nFor instance, driving a car equipped with a computer vision -\\nenabled assistive technology could predict and notify a driving \\ncrash prior to the incident, even if the driver is not conscious \\nof their actions. Therefore, real -time object detection has \\nbecome a highly required subject in continuing the automation \\nor replacement of human tasks. Computer vision and object \\ndetection are prominent field s under machine learning and are \\neventually expected to aid unlocking the potential general -\\nresponsive robotic systems.  \\nWith the current technological advancements, creating \\nopenness and attainability of data to and from everyone \\nconnected to it has become  an easy task. Most human lives \\nrevolved around mainstream personal computers (PCs), and \\nsmartphones have made this process even more accessible. \\nAlong with this process, the expansion of information and \\nimages available on the internet/cloud has become to  the point \\nof millions per day. Usage of computerized systems to utilize \\nthis information and make necessary recognitions and \\nprocesses is vital due to humans' impracticality performing the \\nsame iterative tasks. The initial step of most such processes \\nmay include recognizing a specific object or area on an image. \\nDue to the unpredictability of the availability, location, size, \\nor shape of an item in each image, the recognition process is \\ninconceivably hard to be performed through a traditional \\nprogrammed co mputer algorithm. Factors such as the \\ncomplexity of the foundation, light intensities too contribute \\nto this.  Different strategies have been proposed to solve the \\nproblem of object identification throughout the years. These \\ntechniques focus on the solutio n through multiple stages. \\nNamely, these core stages include recognition, classification, \\nlocalization, and object detection. Along with the \\ntechnological progression over the years, these techniques \\nhave been facing challenges such as output accuracy, res ource \\ncost, processing speed and complexity issues. With the \\ninvention of the first Convolutional Neural Network (CNN) \\nalgorithm in the 1990s inspired by the Neocognitron by Yann \\nLeCun et al. [1] and significant inventions like AlexNet [2], \\nwhich won the ImageNet Large Scale Visual Recognition \\nChallenge (ILSVRC) in 2012 (thus later referred to as \\nImageNe t) CNN algorithms have been capable of providing \\nsolutions for the object detection problem in various \\napproaches. With the purpose of improving accuracy and \\nspeed of recognition, optimization focused algorithms such as \\nVGGNet [3], GoogLeNet [4] and Deep Residual Learning \\n(ResNet) [5] have been invented over the years.  \\nAlthough these algorithms improved over time, window \\nselection or identifying multiple objects from a single image \\nwas still an issue. To bring solu tions to this issue, algorithms \\nwith region proposals, crop/warp features, SVM \\nclassifications and bounding box regression such as Regions \\nwith CNN (R -CNN) were introduced. Although R -CNN was \\ncomparatively high in accuracy with the previous inventions, \\nits high usage of space and time later led to  the invention of  \\nSpatial Pyramid Pooling Network (SPPNet) [6]. Despite \\nSPPNet's speed , to reduce the similar drawbacks it shared with \\nR-CNN; Fast R -CNN was introduced. Although Fast R -CNN \\ncould reach real -time speeds using very deep networks, it held \\na computational bottleneck. Later Faster R -CNN, an \\nalgorithm based on ResNet, was introduced. Due to Faster R -\\nCNN not yet capable of surpassing state of the art detection \\nsystems, YOLO was introduced. This paper reviews the \\ndominating real -time object detection algorithm You Only \\nLook Once (YOLO).  \\nConsisting of layers in the basic CNN architecture and \\nYOLO network s, each layer's characteristics and t he two \\nversions of YOLO; YOLO -V1 and YOLO -V2 would be \\nreviewed under this paper. The strengths and weaknesses of \\nYOLO would be exposed, finally being fo llowed by a \\nsummarized conclusion.  \\n \\nII. CONVOLUTIONAL NEURAL NETWORK (CNN)  \\nA Convolutional Neural Network (CNN) could be taken \\nas a subcategory under Deep Neural Networks specifically \\ninvented for image processing and object detection. CNN \\nalgorithms can be ut ilized without requiring an enormous \\namount of predefined substantial parameters for the provided \\nimage. This ease at training a model and the vast amount of \", metadata={'source': 'pdfs/Real-TimeObjectDetectionusingYOLOAreview.pdf', 'page': 1}),\n",
              " Document(page_content=\"information available through the internet has made CNN \\nalgorithms possible. The mechanism CNN alg orithms follow \\nto express and extract features of the input data is entirely \\nmathematical. This mechanism involves a weight sharing \\nprocess that recognizes and identifies information that holds \\nsimilar features. This process enables networks to analyze \\nhigh data dimensions to achieve the final output of excellent \\nclassification in the end. One of the apparent obstacles in \\nmoving forward with getting better results using CNN \\nmodels is the processing capabilities of available hardware \\nand the scope of paramet ers in datasets.  \\nThe invention of the CNN [7] in 1998 with LeNet and its \\nbloom in 2012 with AlexNet was at the error rate of 15.3% \\nfollowed by ZF -net. The inventions of  GoogLeNe  and \\nVGGNet has made the error rate lower over time. An \\nexceptional milestone in this timeline was when ResNet \\nsurpassed the error rate of 3.6%, which was lower than that \\nof the human eye (5.1%) in 2015, proving that deep learning \\nmodels could surpass human ca pabilities.  \\n \\nA. Structure of CNN  \\nA typical CNN is structured with multiple layers: an \\ninput layer, a convolutional layer, an active layer, a pooling \\nlayer, a fully connected layer and finally, an output layer. \\nSome types of CNN models might include other laye rs for \\ndifferent purposes too . Figure 1 s hows the basic structure of \\na CNN architecture.  \\n \\n \\nFigure 1: The typical CNN structure with seven layers  \\n \\nSource:https://www.researchgate.net/publication/340102110_Hier\\narchical_Multi -View_Se mi-Supervised_Learning_for_Very_High -\\nResolution_Remote_Sensing_Image_Classification  \\n \\nThis multi -layered architecture is diverse in layers and \\nuses forward pass and error backpropagation calculations to \\nachieve the target's proficiency. Training this architecture to \\nbecome a model is a directed procedure that requires a \\ncollection of imager y data and their labels. Eventually, at the \\nend of the training process, the most suitable weights would \\nbe calculated to be used at the testing phase. These layers, as \\nmentioned above, could be further explained as follows.  \\n \\n \\n1) Input Layer  \\nThe input layer is used to initialize the input image data \\nand make all the available dimensions zero -centered. This \\nlayer is also responsible for normalizing the scale of all input \\ndata to a range within 0 and 1, which would help in \\naccelerating the speed of converging. This normalization is \\nalso helpful in reducing redundancy by whitening the data. \\nPrincipal Component Analysis (PCA) is done to degrade and \\ndecorate the available dimensions of the extracted data while \\nfocusing on key dimensions. [8] \\n \\n2) Convolutional Layer  As the layer, which is why CNN received its name, the \\nconvolutional layer is the most critical layer in a CNN \\nstructure.  Comprised of multiple element maps and many \\nneurons inside them, each of these neurons is created to \\nuntangle nearby qualities of various positions in the previous \\nlayer [9]. Many nearby associations and many mutual \\nattributes use a filter called CONV kernel, which slides on the \\noriginal image inputted to it. The CONV kernel calculates the \\nimage's component portrayal by multiplying and adding the \\nvalues of each pixel of the  local correlated data within it \\nbefore being added to the convolutional result. This so -called \\nrule of convolution enables the features of the image to be \\nextracted using the CONV kernel. The reason for filtering the \\nvarious parts of an image with the sam e CONV kernel is that \\nthis refers to shared weights. This usage of shared weights \\nenables neutral cells with the same features to be recognized \\nand classified into the same object type. Parameters such as \\nkernel size, depth, stride, zero -padding, and filte r quantity can \\nbe inputted onto this.  \\n \\n3) Active Layer  \\nThe active layer is the layer used to solve the problem of \\nthe vanishing gradient due to underfitting. This underfitting, \\nnonlinear problem is caused by the previous convolutional \\nlayer. One of the activ e layer functions such as Sigmoid, \\nTanh, the rectified Linear Unit (ReLu), the exponential \\nLinear Unit (ELU), Leaky ELU, or Maxout could be used in \\nsolving underfitting, following their usage [10]. Considering \\nthe converging speed, ReLu function has been the most \\npopula r although Sigmoid and Tanh functions are still \\ncommonly used due to their simplicity and efficiency.  \\n \\n4) Pooling Layer  \\nThe pooling layer's job is to efficiently reduce the \\ndimensions of the results sent from the convolutional layer. \\nThis is achieved by joini ng the neurons' outcome at one layer \\ninto a single neuron in the following layer, thus diminishing \\nthe elements of the component maps and incrementing the \\nstrength of selected extractions. Pooling layers are usually \\nsituated between two convolutional layer s and can be \\ncategorized into three distinct types based on their width: \\ngeneral pooling, overlapping pooling and Spatial Pyramid \\nPooling (SPP). A pooling layer is called a general pooling \\nlayer when its width is mainly equal to its stride. General \\npooling 's activities include max pooling and normal pooling. \\nWhen the most extreme incentives from each neuron group \\nfrom the previous layer are utilized, it is called max pooling. \\nWhen it is done for the normal incentives, it is referred to as \\nnormal pooling. Ov erlapping pooling is when the width is \\nlonger than the stride. Therefore, abnormal state attributes \\nfrom the input layer can be extracted and acquired by \\nstructuring a few convolutional layers along with a final \\npooling layer.  \\n \\n5) Fully Connected Layer  \\nOften the last layer before the output layer, the fully \\nconnected layer transmits data to the output layer while being \\nthe completely associated layer amongst the CNN layers. By \\nutilizing each neuron in the past layer and interfacing them to \\neach neuron on its o wn, it simplifies and speeds up the data \\ncalculation process. It being a completely associated layer \\nsaves no spatial data and is constantly trailed by a yield layer.  \\n\", metadata={'source': 'pdfs/Real-TimeObjectDetectionusingYOLOAreview.pdf', 'page': 2}),\n",
              " Document(page_content=\" \\n6) Other Layers  \\nApart from the different layers used in structuring a CNN \\nmodel mentioned a bove, some CNN models need additional \\nlayers to achieve the expected output. Layers such as dropout \\nlayers, regression layers come under this. Dropout layers are \\noften used to solve overfitting by avoiding majorly subjective \\nweights by updating weights of the neural cell knot with a \\ncertain probability (which is decided by the stochastic \\npolicy). Whereas, regression layer is used to classify features \\nusing a method such as logistic regression (LR), Bayesian \\nLinear Regression (BLR) and Gaussian Processes for  \\nRegression (GPR). The output of a regression layer is the \\nprobabilities of all the possible object types.  \\n \\nIII. TYPES OF OBJECT DETECTION ALGORITHMS  \\nAlgorithms available for object detection can be divided \\ninto two categories: classification -based algorithms a nd \\nregression -based algorithms.  \\n \\n1) Classification based algorithms  \\nClassification based algorithms are implemented in two \\nstages. The initial stage is the selection of region that is of \\ninterest  (RoI)  in the image. Then these regions are classified \\nwith the use of a convolutional neural network. This approach \\nof performing one stage prior to the other can be slow due to \\nthe need to run the prediction algorithm s on each region \\nselected in the first stag e. Few common examples for this \\ntype of algorithms are the Retina Net, Region -based CNN \\n(RCNN), the Fast -RCNN, Faster R -CNN and Mask -RCNN \\n(which is known to be a state -of-art under regional -based \\nCNN algorithms).  \\n \\n2) Regression -based algorithms  \\nRegression -based algorithms are implemented so that \\ninstead of selecting and singling out regions of interest in an \\nimage, they predict classes and their relevant bounding boxes \\nfor the whole image in one run through the model. Since \\nframe detection is treated as a regr ession problem, a complex \\npipeline is not necessary for regression -based algorithms. \\nFamous examples of this type of algorithms are the Single \\nShot Multibox Detector (SSD) and YOLO algorithms. Due to \\nthe simultaneousness of the detection and its nature of high \\nspeed (achieved with a tradeoff with accuracy), these are \\ncommonly used for real -time object detection. The detection \\nand understanding of the more popular YOLO algorithms \\nrequire an initial establishment of what will be predicted \\nbefore the models ar e used. The prediction would result in a \\nbounding box (specifying the Object's location) along with a \\nclass that has the highest probability amongst the established \\nset of classes.  \\n \\nIV. YOU ONLY LOOK ONCE (YOLO)  ALGORITHM  \\nYOLO is a novel approach to detect mu ltiple objects \\npresent in an image in real -time while drawing bounding \\nboxes around them. It passes the image through the CNN \\nalgorithm only once to get the output, thus the name. Although \\ncomparatively similar to R -CNN, YOLO practically runs a lot \\nfaster than Faster R -CNN because of its simpler architecture. \\nUnlike Faster R -CNN, YOLO can classify and perform bounding box regression at the same time. With YOLO, the \\nclass label containing objects, their location can be predicted \\nin one glance. Entirely devia ting from the typical CNN \\npipeline, YOLO treats object detection as a regression \\nproblem by spatially separating bounding boxes and their \\nrelated class probabilities, which are predicted using a single \\nneural network. This process of performing both boundi ng \\nbox prediction and class probability calculations is a unified \\nnetwork architecture that YOLO initially introduced.  \\nYOLO algorithm extends GoogLeNet equations to be used \\nas their base forwarding transport computation, assumably the \\nreason behind the spe ed and accuracy of YOLO's real -time \\nobject detection. In comparison with R -CNN architectures, \\nunlike running a classifier on a potential bounding box, then \\nreevaluating probability scores, YOLO predicts bounding \\nboxes and class probability for those boundi ng boxes \\nsimultaneously. This optimizes the YOLO algorithm and is \\none of the significant reasons why YOLO is so fast and less \\nlikely to have errors to be utilizable for real -time object \\npredictions.  \\nYOLO's architecture is similar to a typical convolutional  \\nneural network inspired by the GoogLeNet model for image \\nclassification. The network's initial layer first extracts the \\nimage's features, and the fully connected layers predict the \\noutput probabilities and coordinates. With 24 convolutional \\nlayers, two fu lly connected layers, 1x1 reduction layers and \\n3x3 convolutional layers, the full YOLO network model \\ncreated [12].  \\n \\nA. Unified Detection of YOLO  \\nYOLO is introduced as a unified algorithm as separate \\ncomponents merge into a single neural network as the final \\npipeline. For each bounding box to be predicted parallelly, the \\nfeatures of the entire image are globally reasoned. YOLO is \\ndesigned in such a way that it does its own end -to-end training \\nin real -time while keeping high -level average precision. To \\nachieve unified detection, YOLO first separates the input \\nimage into a S X S size grids. If the Object's center is being \\nplaced into the grid cell; the  grid cell tries object detection on \\nitself. Thus, every grid cell tries to estimate a bounding box \\nand their confidence scores across all classes trained to \\npredict. The predicted confidence scores will reflect how \\nconfident it is to provide each label an d bounding box to each \\nobject. Formally the confidence scores are defined as Pr \\n(Object) x IOUtruthpred . If an object has been found inside \\nthe cell, this confidence score will be equal to the intersection \\nover union (IOU) between the ground truth and the predicted \\nbox. If not, the confidence score would be equal to zero. The \\nunified detection outputs each confidence score to have five \\nparameters: w, y, w, h,  and confidence . The (x, y)  coordinates \\nrepresent the center of the box with respect to the grid cel l's \\nboundaries. As mentioned above, if the box's center does not \\nfall inside the grid cell, then the cell is not responsible for its \\nprediction. With each coordinate being normalized to be \\ncontained inside the range of 0 and 1, the estimated Object's \\nheigh t and width are calculated with respect to the entire \\nimage. According to Mauricio Menegaz in his article [11] the \\nprediction is of a few steps.  \", metadata={'source': 'pdfs/Real-TimeObjectDetectionusingYOLOAreview.pdf', 'page': 3}),\n",
              " Document(page_content=\" \\nFigure 2: Example of how to coordinate parameters are calcula ted \\nin a 448 X 448 image with S = 3  \\nSource: https://hackernoon.com/understanding -yolo-f5a74bbc7967  \\n \\n Figure 2 depicts how the x coordinate of (220 -149)/149 is \\nnormalized as 0.48. And y  coordinate of (190 -149)/149 is \\nnormalized as 0.28. The width (w) of 224 is calculated as \\n224/448 = 0.50 with respect to the entire image. And height \\n(h) of 143 is calculated as 143/448 = 0.32 with respect to the \\nentire image.  \\nThe confidence score predicts  the IOU among the \\nprediction box and the ground truth box along with these \\nparameters. This confidence score reflects the presence or \\nabsence of an object of any class inside the bounding box. \\nAlong with these calculations, every grid cell having an objec t \\nalso estimates the conditional class probabilities, given as Pr \\n(Class(i) | Object) . This probability is conditioned on the grid \\ncell containing one object. Therefore, if no object is present \\non the grid cell, the loss function will not penalize it for a  \\nwrong class prediction. Since the network will only predict \\none set of class probabilities per cell regardless of the number \\nof boxes ( B), the total number of class probabilities could be \\ntaken as S X S X C . It is said that at the time of testing when \\nconfidence scores for each box is individually calculated, the \\nconditional class probabilities and the individual box \\nconfidence predictions are multiplied as; Pr (Class (i) | \\nObject) X Pr (Object) X IOUtruthpred = Pr (Class(i)) X \\nIOUtruthpred . The confidence  scores for each box reflect the \\nclass's possibility being shown inside the box and how exactly \\nthe Object fits the estimated box.  \\n \\nB. How YOLO Algorithm works?  \\nYOLO algorithm is an algorithm based on regression. It \\npredicts class probabilities of the object  and bounding boxes \\nspecifying the object’s location, for the entire image. The \\nbounding boxes of the object are described as: bx, by, the x, \\ny coordinates represent the center of the box relative to the \\nbounds of the grid cell. The bw, bh as the width and  height \\nare predicted relative to the whole image and the value c is \\nrepresenting the class of the object. Y OLO  takes the image as \\ninput and divides it into S x S grids (3 x 3). Then, image \\nclassification and object localization techniques are applied \\nto each grid of the image and each grid is given a label. The \\nYOLO  algorithm then checks every grid for an object and \\nidentifies its label and bounding boxes. The label of a grid \\nthat does not have an object is indicated as zero. Every \\nlabelled grid is defined  as S.S having 8 values. The 8 values namely are pc, bx, by, bw, bh, c1, c2, c3. Pc shows if a \\nparticular grid has an object or not. If an object is available, \\nthe pc is assigned 1 else 0. bx, by, bh, bw are bounding box \\nparameters of a grid and are only d efined if a proper object is \\navailable in that grid. c1, c2, c3 are classes. If the object is a \\ncar, then the value of c1, c2, c3 are 0,1,0 respectively [11].  \\n \\n \\nFigure 3: Example image with 3x3 grids.  \\nSource: https://jespublication.com/upload/2020 -110682.pdf  \\n \\nIn the example grid, a proper object cannot be \\nidentified from the first grid. Therefore, pc value is 0 and \\nbounding box parameters need not be assigned as there is no \\ndefined object. Class probability cannot be identified as there \\nis no proper object (Fig ure 4). The 6th grid has a proper object \\nand therefore pc value is assigned 1 and bounding boxes for \\nthe object are bx, by, bw and bh. Since the object is a car, the \\nclasses for the grid are 0,1,0 (Figure 5) [11].  \\n \\n \\nFigure 4:Boundi ng box and class values for grid 1  \\nSource: https://jespublication.com/upload/2020 -110682.pdf  \\n \\n \\nFigure 5:Bounding box and class values for grid 6  \\nSource: https://jespublication.com/upload/2020 -110682.pdf  \\n \\n\", metadata={'source': 'pdfs/Real-TimeObjectDetectionusingYOLOAreview.pdf', 'page': 4}),\n",
              " Document(page_content=\"The matrix is defined as S  x S x 8, where S x S \\nrepresents the entire grid size, image gets divided into and 8 \\nindicates the total count of p c, bx, by, bw, bh, c1, c2, c3 \\nvalues. Bounding boxes differ for each grid depending on the \\nposition of objects in the relative grid. If more than two grids \\nhave the same object, then the grid cell that has the center of \\nthe object is used to detect that ob ject. For a precise \\nidentification of the object, two methods can be used ; 1. \\nIntersection over Union (IOU) 2. Non -Max Suppression [11]. \\nIn IOU, actual and estimated bounding box values are used \\nand the IOU of both values are computed using the following \\nformulae.  \\n \\n                             IOU = Intersection Area  \\n                                       ------------------------  \\n                                        Union Area  \\n \\nIt is better if the computed  IOU is greater than a \\nthreshold value (an assum ed value for increasing the accuracy \\nof the detected object.) 0.5  [11].   \\nIn Non -Max Suppression, the next method, high possibility \\nboxes are used and the boxes with high  IOU values are \\nsuppressed [11]. This process is followed many times until a \\nbox is considered as the bounding box for the object.  Each \\ngrid cell also predicts ‘c’ conditional class probabilities for \\nthe object in that grid. These probabilities are conditioned on \\nthe grid cell containing an object. Only one set of class \\nprobabilities is predicted for a grid cell, regardless of the \\nnumber of bounding boxes for tha t grid cell. [12] \\n \\n \\nFigure 6: Complete process of Object detection b y YOLO  \\nSource: https://jespublication.com/upload/2020 -110682.pdf  \\n \\nV. YOLO  VERSIONS  \\n• YOLOv1  \\nBase YOLO is also called YOLO Version 1[10]. It \\ndetects the object basing it as a regression problem. A single \\nconvolutional network predicts multiple bounding boxes and \\nclass probabilities for all the grid cells simultaneously. The \\ninput image is divided into S x S grids. If the center of a \\nproper object falls into a grid cell, that grid cell will be \\nconsidered in detecting that object. Each grid cell predicts N \\nbounding boxes and confidence scores for the boxes and c \\nclass probabilities. At test time, the  class probabilities and the \\nindividual box confidence predictions are multiplied resulting in class -specific confidence scores for each \\npredicted box. These scores encode both the probability of \\nthat class appearing in the box and how well the predicted \\nbox fits the object (Figure 6). These predictions are encoded \\nas an S × S × (N ∗ 5 + c) tensor. The width(bw) and the \\nheight(bh) are predicted relative to the whole image. And that \\nis why YOLOv1 uses Nx5 for calculating tensor. [10]  \\n \\n Pr(Class i |Object) ∗ Pr(Object) ∗ IOU pred = Pr(Class i \\n) ∗ IOU pred.  \\n \\nThese confidence scores reflect how confident the model \\nis in ensuring that the predicted box contains an object and \\nhow accurate the model thinks the box around the different \\nobjects is. Confidence score i s defined as:  \\n   Pr(Object) * IOUtruthpred  \\n \\nYOLOv1’s network has 24 convolutional layers as \\nopposed to YOLOv2, which has 19 layers [10]. For \\nevaluating YOLO model on the PASCAL VOC detection \\ndataset, these values are used: S=7, therefore a 7x7 grid. N=2, \\nnumber of bounding boxes. The PASCAL VOC dataset has \\n20 labelled classes so c=20. Therefore YOLOv1’s final \\nprediction is a 7x7x(5x2+20)=7x7x30 tensor. Here only 98 \\nbounding boxes per image is used [10], [12]  \\n \\n• YOLOv2  \\nYOLO Version 2 is an improved version of the existing \\nYOLO algorithm. The speed of detection performance \\nremains same while the mAP value increased compared to \\nYOLOv1’s Map value of 63.4. New multi -scale training \\nmethod can be used to run the YOLOv2 run at various sizes \\noffering improvements in a ccuracy and speed in prediction.  \\nYOLOv2 adds a list of significant solutions to increase mAP. \\nBatch Normalization preprocesses the input data. High \\nResolution Classifier from YOLOv1’s 224x224 to 448x448 \\nraises the mAP by 4%. Its neural network has 19 \\nconvo lutional layers compared to the YOLOv1 which has 24. \\nYOLOv2 adopts convolutional with anchor boxes and \\nincreases each grid cell’s resolution from YOLOv1’s 7x7 to \\n13x13. It also has only one bounding box for each grid cell. \\nFinally, YOLOv2 adds a pass -throu gh layer to get the \\nextracted features from the former layer and combine them \\nwith the original final output features, so that the ability of \\ndetecting the small object would be enhanced. In this mean, \\nYOLOv2 raises the mAP by 1% [10].  \\n \\nVI. STRENGTHS AND WEAKN ESSES OF YOLO  \\nYOLO is the state -of-art real -time object detection \\nalgorithm that surpasses the previous CNN detection speed \\nlimits while maintaining a good balance between speed and \\naccuracy. YOLOv2, the latest version of YOLO achieving a \\nmean Average Prec ision (mAP) rate of 76.8 at 67 Frames per \\nSecond (FPS) and 78.6 mAP rate at 7 6 FPS, outperforms \\nregional -based algorithms such as Faster R -CNN in both \\nspeed and accuracy. Another great strength in YOLO is its \\nglobal reasoning skills that encode the context ual information \\nabout the whole image rather than a specific region. Along \\nwith these global reasoning skills, the ability to predict false \\npositives in the background increases, improving the \\nalgorithm's reasoning skills as a whole. Lastly, with YOLO's \\n\", metadata={'source': 'pdfs/Real-TimeObjectDetectionusingYOLOAreview.pdf', 'page': 5}),\n",
              " Document(page_content=\"ability to learn basic representations of the labelled objects, it \\nhas outperformed other detection methods, including \\n(Deformable Part Model) DPM and R -CNN when \\ngeneralizing natural images amongst images like artwork. \\nDue to YOLO's generalizability and appl icability in new \\ndomains and unexpected outputs, it is considered one of the \\nbest object detection algorithms in the domain.  \\nAlthough YOLO has many unique strengths, it also \\nhas weaknesses. One of the notable weaknesses of YOLO is \\nits spatial constraints on bounding boxes. These spatial \\nconstraints are held due to each cell being able to predict only \\ntwo boxes and one class. It limits the number of predictable \\nobjects nearby to each other in groups (such as the \\nrecognition of a flock of birds, a basket of similar fruits). Due \\nto only being taught through input data, YOLO also has a \\nweakness in generalizing objects in unusual or new aspect \\nratios. However, this could be considered as more of a general \\nproblem in the object detection domain. Since the model o nly \\nuses relatively coarse features for prediction, the architecture \\nhas a few down sampling layers from the input images, which \\ncan be mentioned as a general weakness  of YOLO . Compared \\nwith an ideal algorithm, YOLO's loss function (which \\napproximates the detection performance) treats errors with \\nthe same loss despite its object boxes' size. This is not \\nadvantageous since a small error in a small box is not \\nequivalent to a small error in a large box, which has a more \\nsignificant effect on the Intersection o ver Union (IOU), \\ngiving out incorrect localizations in the end. Therefore, th ese \\ncould be taken as some of the areas YOLO algorithm could \\nimprove upon.   \\n \\nVII. CONCLUSION AND FUTURE SCOPE  \\nThis paper reviews the fundamental structure of CNN \\nalgorithms and an overview of YOLO's real -time object \\ndetection algorithm. CNN architecture models can remove \\nhighlights and discover objects in each given image. When \\nproperly used, CNN models can solve deformity \\nidentification, instructive/ learning application creation etc. \\nWhen in comparison with other CNN algorithms, YOLO has \\nmany advantages in practice. Being a unified object detection \\nmodel that is simple to construct and train in correspondence \\nwith its simple loss -function, YOLO can train the entire model \\nin parallel. The second major version of YOLO, YOLOv2, \\nprovides the state -of-art, best tradeoff between speed and \\naccuracy for object detection. YOLO is also better at \\ngeneralizing Object represen tation compared with other object \\ndetection models and can be recommended for real -time \\nobject detection as the state -of-art algorithm in object \\ndetection. With these marks, it is acknowledgeable that the \\nfield of object detection has an expanding, great f uture ahead.  \\nACKNOWLEDGEMENT  \\nThe authors would like to thank Dr Dharshana \\nKasthurirathna of the Faculty of Computing, SLIIT, to write \\nthis review paper as an assignment. The expertise of everyone \\nwho improved this study in numerous ways is also gratefully  \\nappreciated.  REFERENCES  \\n[1] Y. Lecun, L. Bottou, Y. Bengio, and P. Haffner, \\n“Gradient -Based Lerning Applied to Document \\nRecognition,” proc. IEEE , 1998, [Online]. Available: \\nhttp://ieeexplore.ieee.org/document/726791/#full -\\ntext-section.  \\n[2] T. F. Gonzalez, “Handbook of approximation \\nalgorithms and metaheuristics,” Handb. Approx. \\nAlgorithms Metaheuristics , pp. 1 –1432, 2007, doi: \\n10.1201/9781420010749.  \\n[3] K. Simonyan and A. Zisserman, “Very deep \\nconvolutional networks for large -scale image \\nrecognition,” 3rd Int. Conf. Learn. Represent. ICLR \\n2015 - Conf. Track Proc. , pp. 1 –14, 2015.  \\n[4] C. Szegedy et al. , “Going Deeper with \\nConvolutions,” 2015, doi: 10.1002/jctb.4820.  \\n[5] K. He, X. Zhang, S. Ren, and J. Sun, “Deep Residual \\nLearning for Image Recognition,” doi: \\n10.1002/chin.200650130.  \\n[6] J. Hosang, R. Benenson, P. Dollar, and B. Schiele, \\n“What Makes for Effective Detection Proposals?,” \\nIEEE Trans. Pattern Anal. Mach. Intell. , vol. 38, no. \\n4, pp. 814 –830, 2016, doi: \\n10.1109/TPAMI.2015.2465908.  \\n[7] A. S. R. H. A. J. S. S. Carlsson, “CNN Feat ures off -\\nthe-shelf: an Astounding Baseline for Recognition,” \\nProc. IEEE Conf. Comput. Vis. Pattern Recognit. \\nWork. , vol. 7389, pp. 806 –813, 2014, doi: \\n10.1117/12.827526.  \\n[8] A. Krizhevsky, I. Sutskever, and G. E. Hinton, \\n“ImageNet Classification with Deep Convolutional \\nNeural Networks,” [Online]. Available: \\nhttps://www.cv -\\nfoundation.org//openaccess/content_cvpr_workshop\\ns_2014/W15/papers/Razavian_CNN_Features_Off -\\nthe-Shelf_2014_CVPR_paper.pdf.  \\n[9] T. Guo, J. Dong, H. Li, and Y. Gao, “Simple \\nconvolutional neu ral network on image \\nclassification,” 2017 IEEE 2nd Int. Conf. Big Data \\nAnal. ICBDA 2017 , pp. 721 –724, 2017, doi: \\n10.1109/ICBDA.2017.8078730.  \\n[10] J. Du, “Understanding of Object Detection Based on \\nCNN Family and YOLO,” J. Phys. Conf. Ser. , vol. \\n1004, no. 1, 2018, doi: 10.1088/1742 -\\n6596/1004/1/012029.  \\n[11] Mauricio Menegaz, “Understanding YOLO – Hacker \\nNoon,” Hackernoon . 2018.  \\n[12] J. Redmon, S. Divvala, R. Girshick, and A. Farhadi, \\n“You only look once: Unified, real -time object \\ndetection,” 2016, doi: 10.11 09/CVPR.2016.91.  \\n \\nView publication stats\", metadata={'source': 'pdfs/Real-TimeObjectDetectionusingYOLOAreview.pdf', 'page': 6})]"
            ]
          },
          "metadata": {},
          "execution_count": 142
        }
      ]
    },
    {
      "cell_type": "markdown",
      "source": [
        "## Chunkins"
      ],
      "metadata": {
        "id": "KGYUaj3eNykP"
      }
    },
    {
      "cell_type": "code",
      "source": [
        "from langchain.text_splitter import RecursiveCharacterTextSplitter"
      ],
      "metadata": {
        "id": "bXHGpiZ5NVHW"
      },
      "execution_count": 143,
      "outputs": []
    },
    {
      "cell_type": "code",
      "source": [
        "text_splitter = RecursiveCharacterTextSplitter(chunk_size=500, chunk_overlap=20)\n",
        "text_chunks = text_splitter.split_documents(data)"
      ],
      "metadata": {
        "id": "_TCZawOWNez8"
      },
      "execution_count": 144,
      "outputs": []
    },
    {
      "cell_type": "code",
      "source": [
        "len(text_chunks)"
      ],
      "metadata": {
        "colab": {
          "base_uri": "https://localhost:8080/"
        },
        "id": "XV2CrWAINnE1",
        "outputId": "1d16b83c-6f1c-49a2-95e8-ec9306014609"
      },
      "execution_count": 145,
      "outputs": [
        {
          "output_type": "execute_result",
          "data": {
            "text/plain": [
              "74"
            ]
          },
          "metadata": {},
          "execution_count": 145
        }
      ]
    },
    {
      "cell_type": "code",
      "source": [
        "text_chunks[2]"
      ],
      "metadata": {
        "colab": {
          "base_uri": "https://localhost:8080/"
        },
        "id": "IbwqGwRYNnCU",
        "outputId": "a3e3fa83-d1d9-46b8-fd45-d9822c08056e"
      },
      "execution_count": 146,
      "outputs": [
        {
          "output_type": "execute_result",
          "data": {
            "text/plain": [
              "Document(page_content='Real-Time Object Detection using YOLO: A review  \\nUpulie H.D.I  \\nIT18107074  \\nSri Lanka Institute of Information Technology  \\nMalabe, Sri Lanka  \\nireshaupulie@gmail.com   \\nLakshini Kuganandamurthy  \\nIT17073592   \\nSri Lanka Institute of Information Technology  \\nMalabe, Sri Lanka  \\nlakkuga@gmail.com  \\n \\nAbstract—With the availability of eno rmous amounts of data \\nand the need to computerize visual -based systems, research on \\nobject detection has been the focus for the past decade. This need', metadata={'source': 'pdfs/Real-TimeObjectDetectionusingYOLOAreview.pdf', 'page': 1})"
            ]
          },
          "metadata": {},
          "execution_count": 146
        }
      ]
    },
    {
      "cell_type": "markdown",
      "source": [
        "## Embeddings"
      ],
      "metadata": {
        "id": "tIY40r0rN00u"
      }
    },
    {
      "cell_type": "code",
      "source": [
        "from langchain.embeddings import HuggingFaceEmbeddings"
      ],
      "metadata": {
        "id": "UIAnc8_WNsp8"
      },
      "execution_count": 147,
      "outputs": []
    },
    {
      "cell_type": "code",
      "source": [
        "embeddings = HuggingFaceEmbeddings(model_name=\"sentence-transformers/all-MiniLM-L6-v2\")"
      ],
      "metadata": {
        "id": "fJTFv3GaOAnu"
      },
      "execution_count": 148,
      "outputs": []
    },
    {
      "cell_type": "code",
      "source": [
        "query_result = embeddings.embed_query(\"Hello World\")"
      ],
      "metadata": {
        "id": "g9U0vZ1GOOhE"
      },
      "execution_count": 149,
      "outputs": []
    },
    {
      "cell_type": "code",
      "source": [
        "query_result"
      ],
      "metadata": {
        "colab": {
          "base_uri": "https://localhost:8080/"
        },
        "id": "Veg_iJqKOWo0",
        "outputId": "5ee5513a-172f-41e4-d383-58090dcc118d"
      },
      "execution_count": 150,
      "outputs": [
        {
          "output_type": "execute_result",
          "data": {
            "text/plain": [
              "[-0.034477271139621735,\n",
              " 0.0310231801122427,\n",
              " 0.006734997965395451,\n",
              " 0.026108959689736366,\n",
              " -0.03936203569173813,\n",
              " -0.16030244529247284,\n",
              " 0.06692398339509964,\n",
              " -0.006441446021199226,\n",
              " -0.0474504791200161,\n",
              " 0.014758843928575516,\n",
              " 0.07087528705596924,\n",
              " 0.055527616292238235,\n",
              " 0.01919332519173622,\n",
              " -0.026251347735524178,\n",
              " -0.01010959129780531,\n",
              " -0.026940450072288513,\n",
              " 0.02230745181441307,\n",
              " -0.022226683795452118,\n",
              " -0.1496926099061966,\n",
              " -0.01749301515519619,\n",
              " 0.007676273118704557,\n",
              " 0.0543522834777832,\n",
              " 0.0032544205896556377,\n",
              " 0.0317259207367897,\n",
              " -0.08462149649858475,\n",
              " -0.029405983164906502,\n",
              " 0.051595594733953476,\n",
              " 0.04812406376004219,\n",
              " -0.0033148264046758413,\n",
              " -0.058279186487197876,\n",
              " 0.04196928068995476,\n",
              " 0.02221069484949112,\n",
              " 0.128188818693161,\n",
              " -0.02233893796801567,\n",
              " -0.011656254529953003,\n",
              " 0.06292837858200073,\n",
              " -0.03287634626030922,\n",
              " -0.09122609347105026,\n",
              " -0.03117532841861248,\n",
              " 0.05269954726099968,\n",
              " 0.04703483358025551,\n",
              " -0.0842030718922615,\n",
              " -0.030056199058890343,\n",
              " -0.02074482850730419,\n",
              " 0.009517843835055828,\n",
              " -0.003721783636137843,\n",
              " 0.007343300152570009,\n",
              " 0.03932429850101471,\n",
              " 0.09327401220798492,\n",
              " -0.003788531757891178,\n",
              " -0.05274210497736931,\n",
              " -0.05805816501379013,\n",
              " -0.0068644024431705475,\n",
              " 0.005283241160213947,\n",
              " 0.08289303630590439,\n",
              " 0.01936277747154236,\n",
              " 0.006284499540925026,\n",
              " -0.010330798104405403,\n",
              " 0.00903236959129572,\n",
              " -0.03768376260995865,\n",
              " -0.04520604386925697,\n",
              " 0.0240163654088974,\n",
              " -0.006944211665540934,\n",
              " 0.013491688296198845,\n",
              " 0.10005493462085724,\n",
              " -0.07168389856815338,\n",
              " -0.021695123985409737,\n",
              " 0.0316183976829052,\n",
              " -0.051634691655635834,\n",
              " -0.08224771171808243,\n",
              " -0.06569328904151917,\n",
              " -0.009895355440676212,\n",
              " 0.005816422402858734,\n",
              " 0.07355450838804245,\n",
              " -0.03405033051967621,\n",
              " 0.024886075407266617,\n",
              " 0.014488046988844872,\n",
              " 0.026457341387867928,\n",
              " 0.009656715206801891,\n",
              " 0.03021726943552494,\n",
              " 0.05280392989516258,\n",
              " -0.07535990327596664,\n",
              " 0.00989716500043869,\n",
              " 0.029836811125278473,\n",
              " 0.01755557395517826,\n",
              " 0.02309197559952736,\n",
              " 0.001933892723172903,\n",
              " 0.001400185632519424,\n",
              " -0.047175973653793335,\n",
              " -0.011194325052201748,\n",
              " -0.11420142650604248,\n",
              " -0.01981189474463463,\n",
              " 0.04026619344949722,\n",
              " 0.002192978048697114,\n",
              " -0.07979219406843185,\n",
              " -0.025382274761795998,\n",
              " 0.09448296576738358,\n",
              " -0.028981078416109085,\n",
              " -0.14500249922275543,\n",
              " 0.23097741603851318,\n",
              " 0.027731183916330338,\n",
              " 0.0321115106344223,\n",
              " 0.031065011397004128,\n",
              " 0.042832836508750916,\n",
              " 0.06423778831958771,\n",
              " 0.03216313198208809,\n",
              " -0.004876723978668451,\n",
              " 0.05569939315319061,\n",
              " -0.03753233328461647,\n",
              " -0.02150554396212101,\n",
              " -0.02834264747798443,\n",
              " -0.028846923261880875,\n",
              " 0.03835304081439972,\n",
              " -0.017468614503741264,\n",
              " 0.052485279738903046,\n",
              " -0.07487598806619644,\n",
              " -0.03125974163413048,\n",
              " 0.02184159867465496,\n",
              " -0.03989572450518608,\n",
              " -0.008587115444242954,\n",
              " 0.0269565898925066,\n",
              " -0.048495516180992126,\n",
              " 0.011469853110611439,\n",
              " 0.02961818128824234,\n",
              " -0.020572226494550705,\n",
              " 0.013103850185871124,\n",
              " 0.02883344516158104,\n",
              " -3.194198350138249e-33,\n",
              " 0.0647820457816124,\n",
              " -0.018130183219909668,\n",
              " 0.05178990960121155,\n",
              " 0.12198278307914734,\n",
              " 0.02878016047179699,\n",
              " 0.00872196163982153,\n",
              " -0.07052122801542282,\n",
              " -0.016907287761569023,\n",
              " 0.040739696472883224,\n",
              " 0.0421161949634552,\n",
              " 0.025447241961956024,\n",
              " 0.03574628010392189,\n",
              " -0.04914475232362747,\n",
              " 0.0021290129516273737,\n",
              " -0.015546588227152824,\n",
              " 0.05073060095310211,\n",
              " -0.048185352236032486,\n",
              " 0.03588063269853592,\n",
              " -0.004067029803991318,\n",
              " 0.10172474384307861,\n",
              " -0.05597013235092163,\n",
              " -0.010681075975298882,\n",
              " 0.011235794052481651,\n",
              " 0.09068654477596283,\n",
              " 0.0042344736866652966,\n",
              " 0.03513868898153305,\n",
              " -0.00970285851508379,\n",
              " -0.09386520087718964,\n",
              " 0.0928555503487587,\n",
              " 0.008004936389625072,\n",
              " -0.007705454248934984,\n",
              " -0.0520867183804512,\n",
              " -0.012588035315275192,\n",
              " 0.003266985062509775,\n",
              " 0.00601353170350194,\n",
              " 0.007581619545817375,\n",
              " 0.010517203249037266,\n",
              " -0.08634555339813232,\n",
              " -0.06987880170345306,\n",
              " -0.002533875172957778,\n",
              " -0.09097655117511749,\n",
              " 0.04688733443617821,\n",
              " 0.05207652226090431,\n",
              " 0.007193866651505232,\n",
              " 0.010903613641858101,\n",
              " -0.005229549016803503,\n",
              " 0.013937338255345821,\n",
              " 0.021968331187963486,\n",
              " 0.03420860692858696,\n",
              " 0.06022464483976364,\n",
              " 0.00011666512000374496,\n",
              " 0.014731956645846367,\n",
              " -0.07008925825357437,\n",
              " 0.028499046340584755,\n",
              " -0.027601677924394608,\n",
              " 0.01076838094741106,\n",
              " 0.03483092039823532,\n",
              " -0.02248786762356758,\n",
              " 0.009769000113010406,\n",
              " 0.07722784578800201,\n",
              " 0.021588386967778206,\n",
              " 0.11495620757341385,\n",
              " -0.0680011659860611,\n",
              " 0.023760968819260597,\n",
              " -0.01598396524786949,\n",
              " -0.017826931551098824,\n",
              " 0.06439489126205444,\n",
              " 0.032025743275880814,\n",
              " 0.05027032643556595,\n",
              " -0.005913723725825548,\n",
              " -0.03370807319879532,\n",
              " 0.0178403090685606,\n",
              " 0.0165733490139246,\n",
              " 0.06329650431871414,\n",
              " 0.034677185118198395,\n",
              " 0.04647345468401909,\n",
              " 0.09790611267089844,\n",
              " -0.006635485216975212,\n",
              " 0.025207120925188065,\n",
              " -0.07798828929662704,\n",
              " 0.016926441341638565,\n",
              " -0.000945798761676997,\n",
              " 0.02247193455696106,\n",
              " -0.03825322911143303,\n",
              " 0.0957048162817955,\n",
              " -0.005350762512534857,\n",
              " 0.010469048283994198,\n",
              " -0.11524052172899246,\n",
              " -0.013262508437037468,\n",
              " -0.010709395632147789,\n",
              " -0.08311726897954941,\n",
              " 0.07327360659837723,\n",
              " 0.049392182379961014,\n",
              " -0.00899433996528387,\n",
              " -0.09584557265043259,\n",
              " 3.366147459724626e-33,\n",
              " 0.12493187934160233,\n",
              " 0.019349750131368637,\n",
              " -0.058225762099027634,\n",
              " -0.0359882228076458,\n",
              " -0.05074668675661087,\n",
              " -0.04566235840320587,\n",
              " -0.08260343223810196,\n",
              " 0.14819477498531342,\n",
              " -0.08842121809720993,\n",
              " 0.0602743998169899,\n",
              " 0.05103018134832382,\n",
              " 0.01030314713716507,\n",
              " 0.1412142515182495,\n",
              " 0.03081381879746914,\n",
              " 0.06103309988975525,\n",
              " -0.05285123363137245,\n",
              " 0.13664893805980682,\n",
              " 0.009189952164888382,\n",
              " -0.017325209453701973,\n",
              " -0.012848656624555588,\n",
              " -0.00799534935504198,\n",
              " -0.05098004266619682,\n",
              " -0.052350614219903946,\n",
              " 0.007593020796775818,\n",
              " -0.015166296623647213,\n",
              " 0.016960352659225464,\n",
              " 0.02127055637538433,\n",
              " 0.020558077841997147,\n",
              " -0.12002813071012497,\n",
              " 0.014461786486208439,\n",
              " 0.026759913191199303,\n",
              " 0.025330664590001106,\n",
              " -0.0427546389400959,\n",
              " 0.006768408697098494,\n",
              " -0.0144585482776165,\n",
              " 0.04526199772953987,\n",
              " -0.09147650748491287,\n",
              " -0.019439151510596275,\n",
              " -0.017833475023508072,\n",
              " -0.054910171777009964,\n",
              " -0.05264110490679741,\n",
              " -0.01045904029160738,\n",
              " -0.05201602727174759,\n",
              " 0.020892005413770676,\n",
              " -0.07997026294469833,\n",
              " -0.01211134810000658,\n",
              " -0.05773143470287323,\n",
              " 0.023178230971097946,\n",
              " -0.00803173054009676,\n",
              " -0.025989333167672157,\n",
              " -0.07995671778917313,\n",
              " -0.020728852599859238,\n",
              " 0.04881766438484192,\n",
              " -0.02038910612463951,\n",
              " -0.049176570028066635,\n",
              " 0.014159686863422394,\n",
              " -0.06362197548151016,\n",
              " -0.007807391230016947,\n",
              " 0.01643151417374611,\n",
              " -0.025682518258690834,\n",
              " 0.013381117023527622,\n",
              " 0.026248754933476448,\n",
              " 0.00997842475771904,\n",
              " 0.06322885304689407,\n",
              " 0.0026722210459411144,\n",
              " -0.006582733243703842,\n",
              " 0.01663188822567463,\n",
              " 0.03236642852425575,\n",
              " 0.03794242441654205,\n",
              " -0.03637603297829628,\n",
              " -0.006910938769578934,\n",
              " 0.00015963686746545136,\n",
              " -0.0016335627296939492,\n",
              " -0.027278155088424683,\n",
              " -0.02803810127079487,\n",
              " 0.04968142881989479,\n",
              " -0.028867201879620552,\n",
              " -0.0024180756881833076,\n",
              " 0.014774888753890991,\n",
              " 0.009764579124748707,\n",
              " 0.005797636229544878,\n",
              " 0.013486131094396114,\n",
              " 0.005567894782871008,\n",
              " 0.03722715005278587,\n",
              " 0.007232483476400375,\n",
              " 0.040156226605176926,\n",
              " 0.0815032497048378,\n",
              " 0.07199165970087051,\n",
              " -0.013056153431534767,\n",
              " -0.042882077395915985,\n",
              " -0.011011228896677494,\n",
              " 0.004897809121757746,\n",
              " -0.009229720570147038,\n",
              " 0.035191480070352554,\n",
              " -0.05103501304984093,\n",
              " -1.571437735492509e-08,\n",
              " -0.08862444013357162,\n",
              " 0.023909306153655052,\n",
              " -0.016238737851381302,\n",
              " 0.0317004919052124,\n",
              " 0.02728426456451416,\n",
              " 0.05246880277991295,\n",
              " -0.04707097262144089,\n",
              " -0.05884745717048645,\n",
              " -0.06320815533399582,\n",
              " 0.04088857024908066,\n",
              " 0.04982792213559151,\n",
              " 0.10655172169208527,\n",
              " -0.07450231164693832,\n",
              " -0.012495444156229496,\n",
              " 0.01837066374719143,\n",
              " 0.03947412595152855,\n",
              " -0.024797935038805008,\n",
              " 0.014516261406242847,\n",
              " -0.03706919401884079,\n",
              " 0.020015718415379524,\n",
              " -4.862773130298592e-05,\n",
              " 0.009866539388895035,\n",
              " 0.024838721379637718,\n",
              " -0.05245815962553024,\n",
              " 0.029314134269952774,\n",
              " -0.08719190210103989,\n",
              " -0.014499704353511333,\n",
              " 0.02601909451186657,\n",
              " -0.01874638721346855,\n",
              " -0.07620513439178467,\n",
              " 0.03504330292344093,\n",
              " 0.10363952815532684,\n",
              " -0.028050534427165985,\n",
              " 0.012718194164335728,\n",
              " -0.07632548362016678,\n",
              " -0.01865236647427082,\n",
              " 0.024976756423711777,\n",
              " 0.08144534379243851,\n",
              " 0.06875891238451004,\n",
              " -0.0640566498041153,\n",
              " -0.08389391005039215,\n",
              " 0.061362359672784805,\n",
              " -0.033545490354299545,\n",
              " -0.10615335404872894,\n",
              " -0.04008055478334427,\n",
              " 0.03253018856048584,\n",
              " 0.07662486284971237,\n",
              " -0.07301618903875351,\n",
              " 0.00033756569609977305,\n",
              " -0.04087163880467415,\n",
              " -0.0757884830236435,\n",
              " 0.02752768062055111,\n",
              " 0.0746253952383995,\n",
              " 0.017717333510518074,\n",
              " 0.0912184938788414,\n",
              " 0.11022021621465683,\n",
              " 0.0005698433960787952,\n",
              " 0.05146332457661629,\n",
              " -0.014551309868693352,\n",
              " 0.03323199972510338,\n",
              " 0.02379230596125126,\n",
              " -0.02288978360593319,\n",
              " 0.03893755003809929,\n",
              " 0.030206851661205292]"
            ]
          },
          "metadata": {},
          "execution_count": 150
        }
      ]
    },
    {
      "cell_type": "code",
      "source": [
        "print(\"Length\", len(query_result))"
      ],
      "metadata": {
        "colab": {
          "base_uri": "https://localhost:8080/"
        },
        "id": "z4S3r-RGOYEk",
        "outputId": "543a2566-5db5-4c19-d941-9f224be136e6"
      },
      "execution_count": 151,
      "outputs": [
        {
          "output_type": "stream",
          "name": "stdout",
          "text": [
            "Length 384\n"
          ]
        }
      ]
    },
    {
      "cell_type": "markdown",
      "source": [
        "## Initializing the Pinecone"
      ],
      "metadata": {
        "id": "kjDDGZ1IOd10"
      }
    },
    {
      "cell_type": "code",
      "source": [
        "import os"
      ],
      "metadata": {
        "id": "gHHNhKtaOinp"
      },
      "execution_count": 152,
      "outputs": []
    },
    {
      "cell_type": "code",
      "source": [
        "PINECONE_API_KEY = os.environ.get('PINECONE_API_KEY', '')\n",
        "PINECONE_API_ENV = os.environ.get('PINECONE_API_ENV', 'gcp-starter')"
      ],
      "metadata": {
        "id": "jsSRlRM3ObeE"
      },
      "execution_count": 153,
      "outputs": []
    },
    {
      "cell_type": "code",
      "source": [
        "import pinecone\n",
        "# initialize pinecone\n",
        "pinecone.init(\n",
        "    api_key=PINECONE_API_KEY,  # find at app.pinecone.io\n",
        "    environment=PINECONE_API_ENV  # next to api key in console\n",
        ")\n",
        "index_name = \"test\" # put in the name of your pinecone index here\n"
      ],
      "metadata": {
        "id": "tLBDqUA5PDq9"
      },
      "execution_count": 154,
      "outputs": []
    },
    {
      "cell_type": "code",
      "source": [
        "from langchain.vectorstores import Pinecone"
      ],
      "metadata": {
        "id": "jS18M0OgPUf5"
      },
      "execution_count": 155,
      "outputs": []
    },
    {
      "cell_type": "code",
      "source": [
        "docsearch = Pinecone.from_texts([t.page_content for t in text_chunks], embeddings, index_name=index_name)"
      ],
      "metadata": {
        "id": "xA40p1jMPMx8"
      },
      "execution_count": 156,
      "outputs": []
    },
    {
      "cell_type": "markdown",
      "source": [
        "## If you already have an index, you can load it like this"
      ],
      "metadata": {
        "id": "aMMqIPGLP8hH"
      }
    },
    {
      "cell_type": "code",
      "source": [
        "docsearch = Pinecone.from_existing_index(index_name, embeddings)\n",
        "docsearch"
      ],
      "metadata": {
        "colab": {
          "base_uri": "https://localhost:8080/"
        },
        "id": "abeq0PEmPfiu",
        "outputId": "73c14ccc-7f03-4abf-b175-b6fd1c8e1679"
      },
      "execution_count": 123,
      "outputs": [
        {
          "output_type": "execute_result",
          "data": {
            "text/plain": [
              "<langchain_community.vectorstores.pinecone.Pinecone at 0x7c56743f3a00>"
            ]
          },
          "metadata": {},
          "execution_count": 123
        }
      ]
    },
    {
      "cell_type": "markdown",
      "source": [
        "## Similarity Search"
      ],
      "metadata": {
        "id": "6rf0vT0TQHD9"
      }
    },
    {
      "cell_type": "code",
      "source": [
        "query = \"What is yolo?\""
      ],
      "metadata": {
        "id": "2QPqDP4uPfgG"
      },
      "execution_count": 157,
      "outputs": []
    },
    {
      "cell_type": "code",
      "source": [
        "docs = docsearch.similarity_search(query, k=3)"
      ],
      "metadata": {
        "id": "SdTGw7HsPfd8"
      },
      "execution_count": 158,
      "outputs": []
    },
    {
      "cell_type": "code",
      "source": [
        "docs"
      ],
      "metadata": {
        "colab": {
          "base_uri": "https://localhost:8080/"
        },
        "id": "UhG7x4O0QRYX",
        "outputId": "8c57711b-3ffe-4396-f6f0-5673f5be9e92"
      },
      "execution_count": 159,
      "outputs": [
        {
          "output_type": "execute_result",
          "data": {
            "text/plain": [
              "[Document(page_content='algorithm only once to get the output, thus the name. Although \\ncomparatively similar to R -CNN, YOLO practically runs a lot \\nfaster than Faster R -CNN because of its simpler architecture. \\nUnlike Faster R -CNN, YOLO can classify and perform bounding box regression at the same time. With YOLO, the \\nclass label containing objects, their location can be predicted \\nin one glance. Entirely devia ting from the typical CNN \\npipeline, YOLO treats object detection as a regression'),\n",
              " Document(page_content=\"object detection. In comparison with R -CNN architectures, \\nunlike running a classifier on a potential bounding box, then \\nreevaluating probability scores, YOLO predicts bounding \\nboxes and class probability for those boundi ng boxes \\nsimultaneously. This optimizes the YOLO algorithm and is \\none of the significant reasons why YOLO is so fast and less \\nlikely to have errors to be utilizable for real -time object \\npredictions.  \\nYOLO's architecture is similar to a typical convolutional\"),\n",
              " Document(page_content='limits while maintaining a good balance between speed and \\naccuracy. YOLOv2, the latest version of YOLO achieving a \\nmean Average Prec ision (mAP) rate of 76.8 at 67 Frames per \\nSecond (FPS) and 78.6 mAP rate at 7 6 FPS, outperforms \\nregional -based algorithms such as Faster R -CNN in both \\nspeed and accuracy. Another great strength in YOLO is its \\nglobal reasoning skills that encode the context ual information \\nabout the whole image rather than a specific region. Along')]"
            ]
          },
          "metadata": {},
          "execution_count": 159
        }
      ]
    },
    {
      "cell_type": "code",
      "source": [
        "len(docs)"
      ],
      "metadata": {
        "colab": {
          "base_uri": "https://localhost:8080/"
        },
        "id": "TWp8rA1-QSWd",
        "outputId": "43d19730-b154-4e46-eb53-a04b1a3daac8"
      },
      "execution_count": 160,
      "outputs": [
        {
          "output_type": "execute_result",
          "data": {
            "text/plain": [
              "3"
            ]
          },
          "metadata": {},
          "execution_count": 160
        }
      ]
    },
    {
      "cell_type": "code",
      "source": [
        "!pip install openai"
      ],
      "metadata": {
        "colab": {
          "base_uri": "https://localhost:8080/"
        },
        "id": "FqnA7aNTQqx2",
        "outputId": "1c4c053b-6cbd-47a7-a1d4-9eeea19f4b82"
      },
      "execution_count": 161,
      "outputs": [
        {
          "output_type": "stream",
          "name": "stdout",
          "text": [
            "Requirement already satisfied: openai in /usr/local/lib/python3.10/dist-packages (1.13.3)\n",
            "Requirement already satisfied: anyio<5,>=3.5.0 in /usr/local/lib/python3.10/dist-packages (from openai) (3.7.1)\n",
            "Requirement already satisfied: distro<2,>=1.7.0 in /usr/lib/python3/dist-packages (from openai) (1.7.0)\n",
            "Requirement already satisfied: httpx<1,>=0.23.0 in /usr/local/lib/python3.10/dist-packages (from openai) (0.27.0)\n",
            "Requirement already satisfied: pydantic<3,>=1.9.0 in /usr/local/lib/python3.10/dist-packages (from openai) (2.6.3)\n",
            "Requirement already satisfied: sniffio in /usr/local/lib/python3.10/dist-packages (from openai) (1.3.1)\n",
            "Requirement already satisfied: tqdm>4 in /usr/local/lib/python3.10/dist-packages (from openai) (4.66.2)\n",
            "Requirement already satisfied: typing-extensions<5,>=4.7 in /usr/local/lib/python3.10/dist-packages (from openai) (4.10.0)\n",
            "Requirement already satisfied: idna>=2.8 in /usr/local/lib/python3.10/dist-packages (from anyio<5,>=3.5.0->openai) (3.6)\n",
            "Requirement already satisfied: exceptiongroup in /usr/local/lib/python3.10/dist-packages (from anyio<5,>=3.5.0->openai) (1.2.0)\n",
            "Requirement already satisfied: certifi in /usr/local/lib/python3.10/dist-packages (from httpx<1,>=0.23.0->openai) (2024.2.2)\n",
            "Requirement already satisfied: httpcore==1.* in /usr/local/lib/python3.10/dist-packages (from httpx<1,>=0.23.0->openai) (1.0.4)\n",
            "Requirement already satisfied: h11<0.15,>=0.13 in /usr/local/lib/python3.10/dist-packages (from httpcore==1.*->httpx<1,>=0.23.0->openai) (0.14.0)\n",
            "Requirement already satisfied: annotated-types>=0.4.0 in /usr/local/lib/python3.10/dist-packages (from pydantic<3,>=1.9.0->openai) (0.6.0)\n",
            "Requirement already satisfied: pydantic-core==2.16.3 in /usr/local/lib/python3.10/dist-packages (from pydantic<3,>=1.9.0->openai) (2.16.3)\n"
          ]
        }
      ]
    },
    {
      "cell_type": "code",
      "source": [
        "from langchain.llms import OpenAI"
      ],
      "metadata": {
        "id": "OefT4CPyQcVC"
      },
      "execution_count": 164,
      "outputs": []
    },
    {
      "cell_type": "code",
      "source": [
        "llm = OpenAI()"
      ],
      "metadata": {
        "id": "MCgk1uIUQT1e"
      },
      "execution_count": 165,
      "outputs": []
    },
    {
      "cell_type": "code",
      "source": [
        "from langchain.chains import RetrievalQA"
      ],
      "metadata": {
        "id": "lhFq_WGjQoCe"
      },
      "execution_count": 166,
      "outputs": []
    },
    {
      "cell_type": "code",
      "source": [
        "qa = RetrievalQA.from_chain_type(llm=llm, chain_type=\"stuff\", retriever=docsearch.as_retriever())"
      ],
      "metadata": {
        "id": "zxUZ3U2SQ17s"
      },
      "execution_count": 167,
      "outputs": []
    },
    {
      "cell_type": "code",
      "source": [
        "query = \"What is yolo?\""
      ],
      "metadata": {
        "id": "y9FMCDRyQ5BX"
      },
      "execution_count": 168,
      "outputs": []
    },
    {
      "cell_type": "code",
      "source": [
        "print(qa.run(query))"
      ],
      "metadata": {
        "id": "pNsMZ2r-Q8Rs",
        "outputId": "09894cc5-06b8-45fa-bae4-e9f346fa2e31",
        "colab": {
          "base_uri": "https://localhost:8080/"
        }
      },
      "execution_count": 169,
      "outputs": [
        {
          "output_type": "stream",
          "name": "stdout",
          "text": [
            " YOLO is a fast and efficient object detection algorithm that can classify and predict the location of objects in an image in one glance. It has a simpler architecture compared to other algorithms and is known for its speed and accuracy. However, it also has weaknesses, such as its limited ability to handle complex images.\n"
          ]
        }
      ]
    }
  ]
}